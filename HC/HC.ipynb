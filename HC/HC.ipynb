{
 "cells": [
  {
   "cell_type": "code",
   "execution_count": 1,
   "metadata": {},
   "outputs": [],
   "source": [
    "def listaEnteros(inicio, tamanio):\n",
    "    '''\n",
    "    Esta función devuelve una lista de números enteros\n",
    "    Recibe dos argumentos:\n",
    "        inicio: Numero entero donde inicia la lista\n",
    "        tamanio: Cantidad de números enteros consecutivos\n",
    "    Ej:\n",
    "        ListaEnteros(10,5) debe retornar [10,11,12,13,14]\n",
    "    '''\n",
    "    #Tu código aca:\n",
    "    lista_vacia = []\n",
    "\n",
    "    for i in range(inicio,inicio+tamanio):\n",
    "        lista_vacia.append(i)\n",
    "\n",
    "    return lista_vacia"
   ]
  },
  {
   "cell_type": "code",
   "execution_count": 5,
   "metadata": {},
   "outputs": [
    {
     "name": "stdout",
     "output_type": "stream",
     "text": [
      "[1, 2, 3, 4, 5, 6, 7, 8, 9, 10]\n",
      "[3, 4, 5, 6, 7, 8, 9, 10]\n",
      "[-2, -1, 0, 1]\n"
     ]
    }
   ],
   "source": [
    "print(listaEnteros(1,10))\n",
    "print(listaEnteros(3,8))\n",
    "print(listaEnteros(-2,4))"
   ]
  },
  {
   "cell_type": "code",
   "execution_count": 6,
   "metadata": {},
   "outputs": [],
   "source": [
    "def dividirDosNumeros(dividendo, divisor):\n",
    "    '''\n",
    "    Esta función devuelve dos valores, la parte entera de la división y su resto\n",
    "    Recibe dos argumentos:\n",
    "        dividendo: El número que va a ser dividido\n",
    "        divisor: El número que va a dividir\n",
    "    Ej:\n",
    "        DividirDosNumeros(10,3) debe retornar 3, 1\n",
    "    '''\n",
    "    #Tu código aca:\n",
    "    if divisor == 0:\n",
    "        return print('No se puede dividir por 0')\n",
    "    resultado = dividendo // divisor\n",
    "    resto = dividendo % divisor\n",
    "\n",
    "    return resultado,resto"
   ]
  },
  {
   "cell_type": "code",
   "execution_count": 8,
   "metadata": {},
   "outputs": [
    {
     "name": "stdout",
     "output_type": "stream",
     "text": [
      "(2, 0)\n",
      "(5, 2)\n",
      "(4, 1)\n"
     ]
    }
   ],
   "source": [
    "print(dividirDosNumeros(10,5))\n",
    "print(dividirDosNumeros(17,3))\n",
    "print(dividirDosNumeros(13,3))"
   ]
  },
  {
   "cell_type": "code",
   "execution_count": 11,
   "metadata": {},
   "outputs": [],
   "source": [
    "def claseAnimal(especie, color):\n",
    "    '''\n",
    "    Esta función devuelve un objeto instanciado de la clase Animal, \n",
    "    la cual debe tener los siguientes atributos:\n",
    "        Edad    (Un valor de tipo de dato entero, que debe inicializarse en cero)\n",
    "        Especie (Un valor de tipo de dato string)\n",
    "        Color   (Un valor de tipo de dato string)\n",
    "    y debe tener el siguiente método:\n",
    "        CumplirAnios  (este método debe sumar uno al atributo Edad y debe devolver ese valor)\n",
    "    Recibe dos argumento:\n",
    "        especie: Dato que se asignará al atributo Especie del objeto de la clase Animal\n",
    "        color: Dato que se asignará al atributo Color del objeto de la clase Animal\n",
    "    Ej:\n",
    "        a = ClaseAnimal('perro','blanco')\n",
    "        a.CumpliAnios() -> debe devolver 1\n",
    "        a.CumpliAnios() -> debe devolver 2\n",
    "        a.CumpliAnios() -> debe devolver 3\n",
    "    '''\n",
    "    #Tu código aca:\n",
    "    class Animal:\n",
    "        def __init__(self,especie,color):\n",
    "\n",
    "            self.edad = 0\n",
    "            if type(especie)==str:\n",
    "                self.especie=especie\n",
    "            else:\n",
    "                print('La especie debe ser de tipo STR')\n",
    "\n",
    "            if type(color)==str:\n",
    "                self.color=color\n",
    "            else:\n",
    "                print('El color debe ser de tipo STR')\n",
    "\n",
    "        def CumplirAnios(self):\n",
    "            self.edad +=1\n",
    "            return self.edad\n",
    "\n",
    "    return Animal(especie,color)"
   ]
  },
  {
   "cell_type": "code",
   "execution_count": 12,
   "metadata": {},
   "outputs": [
    {
     "data": {
      "text/plain": [
       "3"
      ]
     },
     "execution_count": 12,
     "metadata": {},
     "output_type": "execute_result"
    }
   ],
   "source": [
    "a = claseAnimal('perro','negro')\n",
    "valor_test = a.CumplirAnios()\n",
    "valor_test = a.CumplirAnios()\n",
    "valor_test = a.CumplirAnios()\n",
    "valor_test\n",
    "\n"
   ]
  },
  {
   "cell_type": "code",
   "execution_count": 13,
   "metadata": {},
   "outputs": [
    {
     "data": {
      "text/plain": [
       "10"
      ]
     },
     "execution_count": 13,
     "metadata": {},
     "output_type": "execute_result"
    }
   ],
   "source": [
    "b = claseAnimal('ballena','azul')\n",
    "for i in range(0,10):\n",
    "    valor_test = b.CumplirAnios()\n",
    "valor_test"
   ]
  },
  {
   "cell_type": "code",
   "execution_count": 16,
   "metadata": {},
   "outputs": [
    {
     "data": {
      "text/plain": [
       "100"
      ]
     },
     "execution_count": 16,
     "metadata": {},
     "output_type": "execute_result"
    }
   ],
   "source": [
    "d= claseAnimal('tortuga','verde')\n",
    "for i in range(0,100):\n",
    "    valor_test = d.CumplirAnios()\n",
    "valor_test"
   ]
  },
  {
   "cell_type": "code",
   "execution_count": 29,
   "metadata": {},
   "outputs": [],
   "source": [
    "def exponente(numero, exponente):\n",
    "    '''\n",
    "    Esta función devuelve el resultado de elevar el parámetro \"numero\" al parámetro \"exponente\"\n",
    "    Recibe dos argumentos:\n",
    "        numero: El número base en la operación exponencial\n",
    "        exponente: El número exponente en la operación exponencial\n",
    "    Ej:\n",
    "        Exponente(10,3) debe retornar 1000\n",
    "    '''\n",
    "    #Tu código aca:\n",
    "    \n",
    "    resultado=numero**exponente\n",
    "\n",
    "    return resultado"
   ]
  },
  {
   "cell_type": "code",
   "execution_count": 35,
   "metadata": {},
   "outputs": [
    {
     "name": "stdout",
     "output_type": "stream",
     "text": [
      "100\n",
      "7.0\n",
      "1\n"
     ]
    }
   ],
   "source": [
    "print(exponente(10,2))\n",
    "print(exponente(49,0.5))\n",
    "print(exponente(3,0))"
   ]
  },
  {
   "cell_type": "code",
   "execution_count": 36,
   "metadata": {},
   "outputs": [],
   "source": [
    "def listaPrimos(desde, hasta):\n",
    "    '''\n",
    "    Esta función devuelve una lista con los números primos entre los valores \"desde\" y \"hasta\"\n",
    "    pasados como argumento, siendo ambos inclusivos.\n",
    "    En caso de que alguno de los parámetros no sea de tipo entero y/o no sea mayor a cero, debe retornar nulo.\n",
    "    En caso de que el segundo parámetro sea mayor al primero, pero ambos mayores que cero,\n",
    "    debe retornar una lista vacía.\n",
    "    Recibe un argumento:\n",
    "        desde: Será el número a partir del cual se toma el rango\n",
    "        hasta: Será el número hasta el cual se tome el rango\n",
    "    Ej:\n",
    "        ListaPrimos(7,15) debe retornar [7,11,13]\n",
    "        ListaPrimos(100,99) debe retornar []\n",
    "        ListaPrimos(1,7) debe retonan [1,2,3,5,7]\n",
    "    '''\n",
    "    #Tu código aca:\n",
    "    lista_resultado=[]\n",
    "    if type(desde)!= int or type(hasta)!= int:\n",
    "        return None\n",
    "\n",
    "    if desde<=0 or hasta<=0:\n",
    "        return None\n",
    "    \n",
    "    if desde>hasta:\n",
    "        return lista_resultado\n",
    "    \n",
    "    for i in range(desde,hasta+1):\n",
    "        primo=0\n",
    "        for j in range(2,i):\n",
    "            if i%j==0:\n",
    "                primo =1\n",
    "        if primo==0:\n",
    "            lista_resultado.append(i)\n",
    "\n",
    "    return lista_resultado"
   ]
  },
  {
   "cell_type": "code",
   "execution_count": 37,
   "metadata": {},
   "outputs": [
    {
     "data": {
      "text/plain": [
       "[1, 2, 3, 5, 7, 11]"
      ]
     },
     "execution_count": 37,
     "metadata": {},
     "output_type": "execute_result"
    }
   ],
   "source": [
    "lista_test = listaPrimos(1,11)\n",
    "lista_test"
   ]
  },
  {
   "cell_type": "code",
   "execution_count": 39,
   "metadata": {},
   "outputs": [
    {
     "name": "stdout",
     "output_type": "stream",
     "text": [
      "None\n"
     ]
    }
   ],
   "source": [
    "lista_test = listaPrimos('0',0)\n",
    "print(lista_test)"
   ]
  },
  {
   "cell_type": "code",
   "execution_count": 40,
   "metadata": {},
   "outputs": [
    {
     "data": {
      "text/plain": [
       "[67, 71, 73]"
      ]
     },
     "execution_count": 40,
     "metadata": {},
     "output_type": "execute_result"
    }
   ],
   "source": [
    "lista_test = listaPrimos(66,77)\n",
    "lista_test"
   ]
  },
  {
   "cell_type": "code",
   "execution_count": 41,
   "metadata": {},
   "outputs": [
    {
     "name": "stdout",
     "output_type": "stream",
     "text": [
      "None\n"
     ]
    }
   ],
   "source": [
    "lista_test = listaPrimos(0,'66')\n",
    "print(lista_test)"
   ]
  },
  {
   "cell_type": "code",
   "execution_count": 46,
   "metadata": {},
   "outputs": [],
   "source": [
    "def listaRepetidos(lista):\n",
    "    '''\n",
    "    Esta función recibe como argumento una lista y devuelve una lista de tuplas donde cada \n",
    "    tupla contiene un valor de la lista original y las veces que se repite. Los valores \n",
    "    de la lista original no deben estar repetidos. \n",
    "    Debe respetarse el orden original en el que aparecen los elementos.\n",
    "    En caso de que el parámetro no sea de tipo lista debe retornar nulo.\n",
    "    Recibe un argumento:\n",
    "        lista: Será la lista que se va a evaluar.\n",
    "    Ej:\n",
    "        ListaRepetidos([]) debe retornar []\n",
    "        ListaRepetidos(['hola', 'mundo', 'hola', 13, 14]) \n",
    "            debe retornar [('hola',2),('mundo',1),(13,1),(14,1)]\n",
    "        ListaRepetidos([1,2,2,4]) debe retornar [(1,1),(2,2),(4,1)]\n",
    "    '''\n",
    "    #Tu código aca:\n",
    "    lista_result=[]\n",
    "    veces=0\n",
    "    repetido=0\n",
    "    if type(lista)!=list:\n",
    "        return None\n",
    "\n",
    "    for elemento in lista:\n",
    "        for item in lista_result:\n",
    "            if item[0] == elemento:\n",
    "                repetido=1\n",
    "        if repetido==0:\n",
    "            veces=lista.count(elemento)\n",
    "            lista_result.append((elemento,veces))\n",
    "            veces=0\n",
    "        repetido=0\n",
    "\n",
    "    return lista_result"
   ]
  },
  {
   "cell_type": "code",
   "execution_count": 47,
   "metadata": {},
   "outputs": [
    {
     "data": {
      "text/plain": [
       "[('hola', 2), ('mundo', 1)]"
      ]
     },
     "execution_count": 47,
     "metadata": {},
     "output_type": "execute_result"
    }
   ],
   "source": [
    "lista_test = listaRepetidos(['hola', 'mundo', 'hola']) \n",
    "lista_test  # [('hola',2),('mundo',1)]"
   ]
  },
  {
   "cell_type": "code",
   "execution_count": 48,
   "metadata": {},
   "outputs": [
    {
     "data": {
      "text/plain": [
       "[(10, 1), (11, 2), (12, 1), (15, 1), (17, 1), (20, 2)]"
      ]
     },
     "execution_count": 48,
     "metadata": {},
     "output_type": "execute_result"
    }
   ],
   "source": [
    "lista_test = listaRepetidos([10,11,11,12,15,17,20,20])\n",
    "lista_test # [(10,1),(11,2),(12,1),(15,1),(17,1),(20,2)]"
   ]
  },
  {
   "cell_type": "code",
   "execution_count": 50,
   "metadata": {},
   "outputs": [
    {
     "name": "stdout",
     "output_type": "stream",
     "text": [
      "None\n"
     ]
    }
   ],
   "source": [
    "lista_test = listaRepetidos((1,2,3,3))\n",
    "print(lista_test) #None"
   ]
  },
  {
   "cell_type": "code",
   "execution_count": 55,
   "metadata": {},
   "outputs": [],
   "source": [
    "def ordenarDiccionario(diccionario_par, clave, descendente=True):\n",
    "    '''\n",
    "    Esta función recibe como parámetro un diccionario, cuyas listas de valores tienen el mismo\n",
    "    tamaño y sus elementos enésimos están asociados. Y otros dos parámetros que indican\n",
    "    la clave por la cual debe ordenarse y si es descendente o ascendente.\n",
    "    La función debe devolver el diccionario ordenado, teniendo en cuenta de no perder la\n",
    "    relación entre los elementos enésimos.\n",
    "    Recibe tres argumentos:\n",
    "        diccionario:    Diccionario a ordenar.\n",
    "        clave:          Clave del diccionario recibido, por la cual ordenar.\n",
    "        descendente:    Un valor booleano, que al ser verdadero indica ordenamiento ascendente y \n",
    "                        descendente si es falso. \n",
    "                        Debe tratarse de un parámetro por defecto en True.\n",
    "    Si el parámetro diccionario no es un tipo de dato diccionario ó el parámetro clave no \n",
    "    se encuentra dentro de las claves del diccionario, debe devolver nulo.\n",
    "    Ej:\n",
    "        dicc = {'clave1':['c','a','b'],\n",
    "                'clave2':['casa','auto','barco'],\n",
    "                'clave3':[1,2,3]}\n",
    "        OrdenarDiccionario(dicc, 'clave1')          debe retornar {'clave1':['a','b','c'],\n",
    "                                                                'clave2':['auto','barco','casa'],\n",
    "                                                                'clave3':[2,3,1]}\n",
    "        OrdenarDiccionario(dicc, 'clave3', False)   debe retornar {'clave1':['b','a','c'],\n",
    "                                                                'clave2':['barco','auto','casa'],\n",
    "                                                                'clave3':[3,2,1]}\n",
    "    '''\n",
    "    #Tu código aca:\n",
    "    if type(diccionario_par)!= dict:\n",
    "        return None\n",
    "\n",
    "    for k,v in diccionario_par.items():\n",
    "        if k==clave:\n",
    "            for i in range(0,len(v)-1):\n",
    "                for j in range (i+1,len(v)):\n",
    "                    if descendente==True:\n",
    "                        if v[i]<v[j]:\n",
    "                            for valor in diccionario_par.values():\n",
    "                                auxiliar = valor[i]\n",
    "                                valor[i]=valor[j]\n",
    "                                valor[j]=auxiliar\n",
    "                    if descendente==False:\n",
    "                        if v[i]>v[j]:\n",
    "                            for valor in diccionario_par.values():\n",
    "                                auxiliar = valor[i]\n",
    "                                valor[i]=valor[j]\n",
    "                                valor[j]=auxiliar\n",
    "  \n",
    "    return diccionario_par"
   ]
  },
  {
   "cell_type": "code",
   "execution_count": 56,
   "metadata": {},
   "outputs": [
    {
     "data": {
      "text/plain": [
       "{'clave1': ['c', 'b', 'a'],\n",
       " 'clave2': ['casa', 'barco', 'auto'],\n",
       " 'clave3': [3, 2, 1]}"
      ]
     },
     "execution_count": 56,
     "metadata": {},
     "output_type": "execute_result"
    }
   ],
   "source": [
    "dicc = {'clave1':['c','a','b'], 'clave2':['casa','auto','barco'], 'clave3':[3,1,2]}\n",
    "valor_test = ordenarDiccionario(dicc, 'clave1')\n",
    "valor_test  # {'clave1':['c','b','a'], 'clave2':['casa','barco','auto'], 'clave3':[3,2,1]}"
   ]
  },
  {
   "cell_type": "code",
   "execution_count": 57,
   "metadata": {},
   "outputs": [
    {
     "name": "stdout",
     "output_type": "stream",
     "text": [
      "None\n"
     ]
    }
   ],
   "source": [
    "dicc = ['c','a','b']\n",
    "valor_test = ordenarDiccionario(dicc, 'clave1', True)\n",
    "print(valor_test) # None"
   ]
  },
  {
   "cell_type": "code",
   "execution_count": 61,
   "metadata": {},
   "outputs": [
    {
     "data": {
      "text/plain": [
       "{'clave1': ['a', 'b', 'c'],\n",
       " 'clave2': ['auto', 'barco', 'casa'],\n",
       " 'clave3': [1, 2, 3]}"
      ]
     },
     "execution_count": 61,
     "metadata": {},
     "output_type": "execute_result"
    }
   ],
   "source": [
    "dicc = {'clave1':['c','a','b'], 'clave2':['casa','auto','barco'], 'clave3':[3,1,2]}\n",
    "valor_test = ordenarDiccionario(dicc, 'clave1', False)\n",
    "valor_test  #{'clave1':['a','b','c'], 'clave2':['auto','barco','casa'], 'clave3':[1,2,3]}"
   ]
  }
 ],
 "metadata": {
  "kernelspec": {
   "display_name": "Python 3",
   "language": "python",
   "name": "python3"
  },
  "language_info": {
   "codemirror_mode": {
    "name": "ipython",
    "version": 3
   },
   "file_extension": ".py",
   "mimetype": "text/x-python",
   "name": "python",
   "nbconvert_exporter": "python",
   "pygments_lexer": "ipython3",
   "version": "3.11.4"
  },
  "orig_nbformat": 4
 },
 "nbformat": 4,
 "nbformat_minor": 2
}
