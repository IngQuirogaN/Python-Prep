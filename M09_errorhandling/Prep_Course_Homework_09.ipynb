{
 "cells": [
  {
   "attachments": {},
   "cell_type": "markdown",
   "metadata": {},
   "source": [
    "## Manejo de errores"
   ]
  },
  {
   "attachments": {},
   "cell_type": "markdown",
   "metadata": {},
   "source": [
    "1) Con la clase creada en el módulo 7, tener en cuenta diferentes casos en que el código pudiera arrojar error. Por ejemplo, en la creación del objeto recibimos una lista de números enteros pero ¿qué pasa si se envía otro tipo de dato?"
   ]
  },
  {
   "cell_type": "code",
   "execution_count": 42,
   "metadata": {},
   "outputs": [
    {
     "ename": "ValueError",
     "evalue": "Se ha creado una lista vacía. Se esperaba una lista de núemeros enteros",
     "output_type": "error",
     "traceback": [
      "\u001b[1;31m---------------------------------------------------------------------------\u001b[0m",
      "\u001b[1;31mValueError\u001b[0m                                Traceback (most recent call last)",
      "Cell \u001b[1;32mIn[42], line 3\u001b[0m\n\u001b[0;32m      1\u001b[0m \u001b[39mimport\u001b[39;00m \u001b[39marchivo9\u001b[39;00m \u001b[39mas\u001b[39;00m \u001b[39mx\u001b[39;00m\n\u001b[0;32m      2\u001b[0m prueba2 \u001b[39m=\u001b[39m x\u001b[39m.\u001b[39mfunciones_lista([\u001b[39m1\u001b[39m,\u001b[39m2\u001b[39m,\u001b[39m3\u001b[39m,\u001b[39m4\u001b[39m,\u001b[39m5\u001b[39m,\u001b[39m6\u001b[39m])\n\u001b[1;32m----> 3\u001b[0m prueba \u001b[39m=\u001b[39m x\u001b[39m.\u001b[39;49mfunciones_lista(\u001b[39m'\u001b[39;49m\u001b[39mhola\u001b[39;49m\u001b[39m'\u001b[39;49m)\n",
      "File \u001b[1;32mc:\\Users\\nicol\\OneDrive\\Documentos\\Henry\\Python-Prep\\M09_errorhandling\\archivo9.py:4\u001b[0m, in \u001b[0;36mfunciones_lista.__init__\u001b[1;34m(self, lista)\u001b[0m\n\u001b[0;32m      2\u001b[0m \u001b[39mdef\u001b[39;00m \u001b[39m__init__\u001b[39m(\u001b[39mself\u001b[39m,lista):\n\u001b[0;32m      3\u001b[0m     \u001b[39mif\u001b[39;00m (\u001b[39mtype\u001b[39m(lista)\u001b[39m!=\u001b[39m\u001b[39mlist\u001b[39m):\n\u001b[1;32m----> 4\u001b[0m         \u001b[39mraise\u001b[39;00m \u001b[39mValueError\u001b[39;00m(\u001b[39m'\u001b[39m\u001b[39mSe ha creado una lista vacía. Se esperaba una lista de núemeros enteros\u001b[39m\u001b[39m'\u001b[39m) \n\u001b[0;32m      5\u001b[0m     \u001b[39mself\u001b[39m\u001b[39m.\u001b[39mlista\u001b[39m=\u001b[39mlista\n",
      "\u001b[1;31mValueError\u001b[0m: Se ha creado una lista vacía. Se esperaba una lista de núemeros enteros"
     ]
    }
   ],
   "source": [
    "\n",
    "import archivo9 as x\n",
    "prueba2 = x.funciones_lista([1,2,3,4,5,6])\n",
    "prueba = x.funciones_lista('hola')\n",
    "\n",
    "\n",
    "\n"
   ]
  },
  {
   "attachments": {},
   "cell_type": "markdown",
   "metadata": {},
   "source": [
    "2) En la función que hace la conversión de grados, validar que los parámetros enviados sean los esperados, de no serlo, informar cuáles son los valores esperados."
   ]
  },
  {
   "cell_type": "code",
   "execution_count": 44,
   "metadata": {},
   "outputs": [],
   "source": [
    "def convert_grados(self,valor,med_origen,med_destino):\n",
    "        unidades=['C','K','F']\n",
    "        if med_origen not in unidades or med_destino not in unidades:\n",
    "            print('Los parametros introducidos son incorrectos, debera ingresar C para celsius K para kelvin y F para farenheit')\n",
    "            return None\n",
    "\n",
    "        self.valor = valor\n",
    "        self.med_origen = med_origen\n",
    "        self.med_destino = med_destino\n",
    "        if self.med_origen=='F':\n",
    "            if self.med_destino == 'C':\n",
    "                return ((self.valor-32)/(9/5))\n",
    "            if self.med_destino == 'K':\n",
    "                return ((self.valor-32)/(9/5)+273.15)\n",
    "            if self.med_destino == 'F':\n",
    "                return self.valor\n",
    "    \n",
    "        if self.med_origen=='C':\n",
    "            if self.med_destino == 'F':\n",
    "                return (self.valor*(9/5)+32)\n",
    "            if self.med_destino == 'K':\n",
    "                return (self.valor+273.15)\n",
    "            if self.med_destino == 'C':\n",
    "                return self.valor\n",
    "\n",
    "        if self.med_origen=='K':\n",
    "            if self.med_destino == 'C':\n",
    "                return (self.valor-273.15)\n",
    "            if self.med_destino == 'F':\n",
    "                return (((self.valor-273.15)*(9/5))+32)\n",
    "            if self.med_destino == 'K':\n",
    "                return self.valor\n",
    "            "
   ]
  },
  {
   "attachments": {},
   "cell_type": "markdown",
   "metadata": {},
   "source": [
    "3) Importar el modulo \"unittest\" y crear los siguientes casos de pruebas sobre la clase utilizada en el punto 2<br>\n",
    "Creacion del objeto incorrecta<br>\n",
    "Creacion correcta del objeto<br>\n",
    "Metodo valor_modal()<br>\n",
    "\n",
    "Se puede usar \"raise ValueError()\" en la creación de la clase para verificar el error. Investigar sobre esta funcionalidad."
   ]
  },
  {
   "cell_type": "code",
   "execution_count": 45,
   "metadata": {},
   "outputs": [
    {
     "name": "stderr",
     "output_type": "stream",
     "text": [
      "test_crear_objeto1 (__main__.probando.test_crear_objeto1) ... ok\n",
      "test_crear_objeto2 (__main__.probando.test_crear_objeto2) ... ok\n",
      "test_valor_modal (__main__.probando.test_valor_modal) ... ok\n",
      "\n",
      "----------------------------------------------------------------------\n",
      "Ran 3 tests in 0.004s\n",
      "\n",
      "OK\n"
     ]
    },
    {
     "data": {
      "text/plain": [
       "<unittest.main.TestProgram at 0x2cd21647b10>"
      ]
     },
     "execution_count": 45,
     "metadata": {},
     "output_type": "execute_result"
    }
   ],
   "source": [
    "import unittest\n",
    "class probando(unittest.TestCase):\n",
    "    \n",
    "    def test_crear_objeto1(self):\n",
    "        param = 'str'\n",
    "        self.assertRaises(ValueError, x.funciones_lista, param)\n",
    "\n",
    "    def test_crear_objeto2(self):\n",
    "        param = [1,2,2,5]\n",
    "        h1 = x.funciones_lista(param)\n",
    "        self.assertEqual(h1.lista, param)\n",
    "\n",
    "    def test_valor_modal(self):\n",
    "        lis = [1,2,1,3]\n",
    "        h1 = x.funciones_lista(lis)\n",
    "        moda, veces = h1.contar_repetido()\n",
    "        moda = [moda]\n",
    "        moda.append(veces)\n",
    "        resultado = [1, 2]\n",
    "        self.assertEqual(moda, resultado)\n",
    "\n",
    "unittest.main(argv=[''], verbosity=2, exit=False)"
   ]
  },
  {
   "attachments": {},
   "cell_type": "markdown",
   "metadata": {},
   "source": [
    "4) Probar una creación incorrecta y visualizar la salida del \"raise\""
   ]
  },
  {
   "cell_type": "code",
   "execution_count": 46,
   "metadata": {},
   "outputs": [
    {
     "ename": "ValueError",
     "evalue": "Se ha creado una lista vacía. Se esperaba una lista de núemeros enteros",
     "output_type": "error",
     "traceback": [
      "\u001b[1;31m---------------------------------------------------------------------------\u001b[0m",
      "\u001b[1;31mValueError\u001b[0m                                Traceback (most recent call last)",
      "Cell \u001b[1;32mIn[46], line 1\u001b[0m\n\u001b[1;32m----> 1\u001b[0m prueba \u001b[39m=\u001b[39m x\u001b[39m.\u001b[39;49mfunciones_lista(\u001b[39m2\u001b[39;49m)\n",
      "File \u001b[1;32mc:\\Users\\nicol\\OneDrive\\Documentos\\Henry\\Python-Prep\\M09_errorhandling\\archivo9.py:4\u001b[0m, in \u001b[0;36mfunciones_lista.__init__\u001b[1;34m(self, lista)\u001b[0m\n\u001b[0;32m      2\u001b[0m \u001b[39mdef\u001b[39;00m \u001b[39m__init__\u001b[39m(\u001b[39mself\u001b[39m,lista):\n\u001b[0;32m      3\u001b[0m     \u001b[39mif\u001b[39;00m (\u001b[39mtype\u001b[39m(lista)\u001b[39m!=\u001b[39m\u001b[39mlist\u001b[39m):\n\u001b[1;32m----> 4\u001b[0m         \u001b[39mraise\u001b[39;00m \u001b[39mValueError\u001b[39;00m(\u001b[39m'\u001b[39m\u001b[39mSe ha creado una lista vacía. Se esperaba una lista de núemeros enteros\u001b[39m\u001b[39m'\u001b[39m) \n\u001b[0;32m      5\u001b[0m     \u001b[39mself\u001b[39m\u001b[39m.\u001b[39mlista\u001b[39m=\u001b[39mlista\n",
      "\u001b[1;31mValueError\u001b[0m: Se ha creado una lista vacía. Se esperaba una lista de núemeros enteros"
     ]
    }
   ],
   "source": [
    "prueba = x.funciones_lista(2)\n"
   ]
  },
  {
   "attachments": {},
   "cell_type": "markdown",
   "metadata": {},
   "source": [
    "6) Agregar casos de pruebas para el método verifica_primos() realizando el cambio en la clase, para que devuelva una lista de True o False en función de que el elemento en la posisicón sea o no primo"
   ]
  },
  {
   "cell_type": "code",
   "execution_count": 52,
   "metadata": {},
   "outputs": [
    {
     "name": "stderr",
     "output_type": "stream",
     "text": [
      "test_crear_objeto1 (__main__.probando.test_crear_objeto1) ... ok\n",
      "test_crear_objeto2 (__main__.probando.test_crear_objeto2) ... ok\n",
      "test_valor_modal (__main__.probando.test_valor_modal) ... ok\n",
      "test_primos (__main__.prueba_primos.test_primos) ... FAIL\n",
      "\n",
      "======================================================================\n",
      "FAIL: test_primos (__main__.prueba_primos.test_primos)\n",
      "----------------------------------------------------------------------\n",
      "Traceback (most recent call last):\n",
      "  File \"C:\\Users\\nicol\\AppData\\Local\\Temp\\ipykernel_21188\\1387192238.py\", line 8, in test_primos\n",
      "    self.assertEqual(primos, respuesta)\n",
      "AssertionError: None != [True, True, False, False, True]\n",
      "\n",
      "----------------------------------------------------------------------\n",
      "Ran 4 tests in 0.005s\n",
      "\n",
      "FAILED (failures=1)\n"
     ]
    },
    {
     "name": "stdout",
     "output_type": "stream",
     "text": [
      "El elemento 2 SI es un numero primo\n",
      "El elemento 3 SI es un numero primo\n",
      "El elemento 8 NO es un numero primo\n",
      "El elemento 10 NO es un numero primo\n",
      "El elemento 13 SI es un numero primo\n"
     ]
    },
    {
     "data": {
      "text/plain": [
       "<unittest.main.TestProgram at 0x2cd217c2e90>"
      ]
     },
     "execution_count": 52,
     "metadata": {},
     "output_type": "execute_result"
    }
   ],
   "source": [
    "class prueba_primos(unittest.TestCase):\n",
    "\n",
    "    def test_primos(self):\n",
    "        lista = [2,3,8,10,13]\n",
    "        objeto = x.funciones_lista(lista)\n",
    "        primos = objeto.lista_primo()\n",
    "        respuesta = [True, True, False, False, True]\n",
    "        self.assertEqual(primos, respuesta)\n",
    "\n",
    "unittest.main(argv=[''], verbosity=2, exit=False)\n"
   ]
  },
  {
   "attachments": {},
   "cell_type": "markdown",
   "metadata": {},
   "source": [
    "7) Agregar casos de pruebas para el método conversion_grados()"
   ]
  },
  {
   "cell_type": "code",
   "execution_count": 53,
   "metadata": {},
   "outputs": [
    {
     "name": "stderr",
     "output_type": "stream",
     "text": [
      "test_crear_objeto1 (__main__.probando.test_crear_objeto1) ... ok\n",
      "test_crear_objeto2 (__main__.probando.test_crear_objeto2) ... ok\n",
      "test_valor_modal (__main__.probando.test_valor_modal) ... ok\n",
      "test_grados (__main__.prueba_grados.test_grados) ... FAIL\n",
      "test_primos (__main__.prueba_primos.test_primos) ... FAIL\n",
      "\n",
      "======================================================================\n",
      "FAIL: test_grados (__main__.prueba_grados.test_grados)\n",
      "----------------------------------------------------------------------\n",
      "Traceback (most recent call last):\n",
      "  File \"C:\\Users\\nicol\\AppData\\Local\\Temp\\ipykernel_21188\\3190070157.py\", line 8, in test_grados\n",
      "    self.assertEqual(conversion, respuesta)\n",
      "AssertionError: None != [35.6, 37.4, 46.4, 50.0, 55.4]\n",
      "\n",
      "======================================================================\n",
      "FAIL: test_primos (__main__.prueba_primos.test_primos)\n",
      "----------------------------------------------------------------------\n",
      "Traceback (most recent call last):\n",
      "  File \"C:\\Users\\nicol\\AppData\\Local\\Temp\\ipykernel_21188\\1387192238.py\", line 8, in test_primos\n",
      "    self.assertEqual(primos, respuesta)\n",
      "AssertionError: None != [True, True, False, False, True]\n",
      "\n",
      "----------------------------------------------------------------------\n",
      "Ran 5 tests in 0.005s\n",
      "\n",
      "FAILED (failures=2)\n"
     ]
    },
    {
     "name": "stdout",
     "output_type": "stream",
     "text": [
      "35.6\n",
      "37.4\n",
      "46.4\n",
      "50.0\n",
      "55.400000000000006\n",
      "El elemento 2 SI es un numero primo\n",
      "El elemento 3 SI es un numero primo\n",
      "El elemento 8 NO es un numero primo\n",
      "El elemento 10 NO es un numero primo\n",
      "El elemento 13 SI es un numero primo\n"
     ]
    },
    {
     "data": {
      "text/plain": [
       "<unittest.main.TestProgram at 0x2cd21782490>"
      ]
     },
     "execution_count": 53,
     "metadata": {},
     "output_type": "execute_result"
    }
   ],
   "source": [
    "class prueba_grados(unittest.TestCase):\n",
    "\n",
    "    def test_grados(self):\n",
    "        lis = [2,3,8,10,13]\n",
    "        prueba = x.funciones_lista(lis)\n",
    "        conversion = prueba.lista_grados('C','F')\n",
    "        respuesta = [35.6, 37.4, 46.4, 50.0, 55.4]\n",
    "        self.assertEqual(conversion, respuesta)\n",
    "\n",
    "unittest.main(argv=[''], verbosity=2, exit=False)"
   ]
  },
  {
   "attachments": {},
   "cell_type": "markdown",
   "metadata": {},
   "source": [
    "8) Agregar casos de pruebas para el método factorial()"
   ]
  },
  {
   "cell_type": "code",
   "execution_count": 54,
   "metadata": {},
   "outputs": [
    {
     "name": "stderr",
     "output_type": "stream",
     "text": [
      "test_crear_objeto1 (__main__.probando.test_crear_objeto1) ... ok\n",
      "test_crear_objeto2 (__main__.probando.test_crear_objeto2) ... ok\n",
      "test_valor_modal (__main__.probando.test_valor_modal) ... ok\n",
      "test_factorial (__main__.pruebaFactorial.test_factorial) ... FAIL\n",
      "test_grados (__main__.prueba_grados.test_grados) ... FAIL\n",
      "test_primos (__main__.prueba_primos.test_primos) ... FAIL\n",
      "\n",
      "======================================================================\n",
      "FAIL: test_factorial (__main__.pruebaFactorial.test_factorial)\n",
      "----------------------------------------------------------------------\n",
      "Traceback (most recent call last):\n",
      "  File \"C:\\Users\\nicol\\AppData\\Local\\Temp\\ipykernel_21188\\3668480110.py\", line 8, in test_factorial\n",
      "    self.assertEqual(factorial, respuesta)\n",
      "AssertionError: None != [2, 6, 40320, 3628800, 6227020800]\n",
      "\n",
      "======================================================================\n",
      "FAIL: test_grados (__main__.prueba_grados.test_grados)\n",
      "----------------------------------------------------------------------\n",
      "Traceback (most recent call last):\n",
      "  File \"C:\\Users\\nicol\\AppData\\Local\\Temp\\ipykernel_21188\\3190070157.py\", line 8, in test_grados\n",
      "    self.assertEqual(conversion, respuesta)\n",
      "AssertionError: None != [35.6, 37.4, 46.4, 50.0, 55.4]\n",
      "\n",
      "======================================================================\n",
      "FAIL: test_primos (__main__.prueba_primos.test_primos)\n",
      "----------------------------------------------------------------------\n",
      "Traceback (most recent call last):\n",
      "  File \"C:\\Users\\nicol\\AppData\\Local\\Temp\\ipykernel_21188\\1387192238.py\", line 8, in test_primos\n",
      "    self.assertEqual(primos, respuesta)\n",
      "AssertionError: None != [True, True, False, False, True]\n",
      "\n",
      "----------------------------------------------------------------------\n",
      "Ran 6 tests in 0.008s\n",
      "\n",
      "FAILED (failures=3)\n"
     ]
    },
    {
     "name": "stdout",
     "output_type": "stream",
     "text": [
      "El factorial de  2 es 2\n",
      "El factorial de  3 es 6\n",
      "El factorial de  8 es 40320\n",
      "El factorial de  10 es 3628800\n",
      "El factorial de  13 es 6227020800\n",
      "35.6\n",
      "37.4\n",
      "46.4\n",
      "50.0\n",
      "55.400000000000006\n",
      "El elemento 2 SI es un numero primo\n",
      "El elemento 3 SI es un numero primo\n",
      "El elemento 8 NO es un numero primo\n",
      "El elemento 10 NO es un numero primo\n",
      "El elemento 13 SI es un numero primo\n"
     ]
    },
    {
     "data": {
      "text/plain": [
       "<unittest.main.TestProgram at 0x2cd217677d0>"
      ]
     },
     "execution_count": 54,
     "metadata": {},
     "output_type": "execute_result"
    }
   ],
   "source": [
    "class pruebaFactorial (unittest.TestCase):\n",
    "\n",
    "    def test_factorial(self):\n",
    "        lista = [2,3,8,10,13]\n",
    "        objeto = x.funciones_lista(lista)\n",
    "        factorial = objeto.lista_factorial()\n",
    "        respuesta = [2, 6, 40320, 3628800, 6227020800]\n",
    "        self.assertEqual(factorial, respuesta)\n",
    "    \n",
    "unittest.main(argv=[''], verbosity=2, exit=False)"
   ]
  }
 ],
 "metadata": {
  "interpreter": {
   "hash": "c85384e4cb51c8b72350f3a8712cc8351fdc3955e32a27f9b60c6242ab125f01"
  },
  "kernelspec": {
   "display_name": "Python 3 (ipykernel)",
   "language": "python",
   "name": "python3"
  },
  "language_info": {
   "codemirror_mode": {
    "name": "ipython",
    "version": 3
   },
   "file_extension": ".py",
   "mimetype": "text/x-python",
   "name": "python",
   "nbconvert_exporter": "python",
   "pygments_lexer": "ipython3",
   "version": "3.11.4"
  }
 },
 "nbformat": 4,
 "nbformat_minor": 4
}
