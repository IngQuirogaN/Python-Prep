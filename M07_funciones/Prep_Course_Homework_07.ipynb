{
 "cells": [
  {
   "attachments": {},
   "cell_type": "markdown",
   "metadata": {},
   "source": [
    "## Funciones"
   ]
  },
  {
   "attachments": {},
   "cell_type": "markdown",
   "metadata": {},
   "source": [
    "1) Crear una función que reciba un número como parámetro y devuelva True si es primo y False si no lo es"
   ]
  },
  {
   "cell_type": "code",
   "execution_count": 3,
   "metadata": {},
   "outputs": [
    {
     "name": "stdout",
     "output_type": "stream",
     "text": [
      "True\n"
     ]
    }
   ],
   "source": [
    "def primo(numero):\n",
    "    primo=0\n",
    "    for i in range(2,numero):\n",
    "        if numero%i==0:\n",
    "            primo =1\n",
    "    if primo==0:\n",
    "        return True\n",
    "    else:\n",
    "        return False\n",
    "\n",
    "print(primo(11))\n",
    "    "
   ]
  },
  {
   "attachments": {},
   "cell_type": "markdown",
   "metadata": {},
   "source": [
    "2) Utilizando la función del punto 1, realizar otra función que reciba de parámetro una lista de números y devuelva sólo aquellos que son primos en otra lista"
   ]
  },
  {
   "cell_type": "code",
   "execution_count": 4,
   "metadata": {},
   "outputs": [
    {
     "name": "stdout",
     "output_type": "stream",
     "text": [
      "[1, 3, 7, 11, 17]\n"
     ]
    }
   ],
   "source": [
    "def lista_primos(lista):\n",
    "    lista_primos=[]\n",
    "    for elemento in lista:\n",
    "        if primo(elemento):\n",
    "            lista_primos.append(elemento)\n",
    "    \n",
    "    return lista_primos\n",
    "\n",
    "\n",
    "prueba=[1,3,4,6,7,9,11,15,17,25,36,77]\n",
    "print(lista_primos(prueba))\n"
   ]
  },
  {
   "attachments": {},
   "cell_type": "markdown",
   "metadata": {},
   "source": [
    "3) Crear una función que al recibir una lista de números, devuelva el que más se repite y cuántas veces lo hace. Si hay más de un \"más repetido\", que devuelva cualquiera"
   ]
  },
  {
   "cell_type": "code",
   "execution_count": 5,
   "metadata": {},
   "outputs": [
    {
     "name": "stdout",
     "output_type": "stream",
     "text": [
      "(5, 6)\n"
     ]
    }
   ],
   "source": [
    "def contar_repetido(lista):\n",
    "    contador_max=0\n",
    "    contador=0\n",
    "    valor=0\n",
    "    for elemento in lista:\n",
    "        contador=lista.count(elemento)\n",
    "        if contador>contador_max:\n",
    "            contador_max=contador\n",
    "            valor=elemento\n",
    "    return valor,contador_max\n",
    "\n",
    "lista=[5,34,5,7,3,23,4,65,7,5,4,23,5,7,87,2,434,54,5,76,45,23,23,123,76,98,5,190]\n",
    "print(contar_repetido(lista))"
   ]
  },
  {
   "attachments": {},
   "cell_type": "markdown",
   "metadata": {},
   "source": [
    "4) A la función del punto 3, agregar un parámetro más, que permita elegir si se requiere el menor o el mayor de los mas repetidos."
   ]
  },
  {
   "cell_type": "code",
   "execution_count": 8,
   "metadata": {},
   "outputs": [
    {
     "name": "stdout",
     "output_type": "stream",
     "text": [
      "(34, 1)\n"
     ]
    }
   ],
   "source": [
    "def contar_repetido2(lista,may_men):\n",
    "    contador_max=0\n",
    "    contador=0\n",
    "    contador_min=50000\n",
    "    valor=0\n",
    "    for elemento in lista:\n",
    "        contador=lista.count(elemento)\n",
    "        if may_men == 'mayor':\n",
    "            if contador>contador_max:\n",
    "                contador_max=contador\n",
    "                valor=elemento\n",
    "        elif may_men=='menor':\n",
    "            if contador<contador_min:\n",
    "                contador_min=contador\n",
    "                valor=elemento\n",
    "        else:\n",
    "            print('valor ingresado incorrecto')\n",
    "    if may_men == 'mayor':\n",
    "        return valor,contador_max\n",
    "    elif may_men=='menor':\n",
    "        return valor,contador_min\n",
    "\n",
    "print(contar_repetido2(lista,'menor'))"
   ]
  },
  {
   "attachments": {},
   "cell_type": "markdown",
   "metadata": {},
   "source": [
    "5) Crear una función que convierta entre grados Celsius, Farenheit y Kelvin<br>\n",
    "Fórmula 1\t: (°C × 9/5) + 32 = °F<br>\n",
    "Fórmula 2\t: °C + 273.15 = °K<br>\n",
    "Debe recibir 3 parámetros: el valor, la medida de orígen y la medida de destino\n"
   ]
  },
  {
   "cell_type": "code",
   "execution_count": 11,
   "metadata": {},
   "outputs": [
    {
     "name": "stdout",
     "output_type": "stream",
     "text": [
      "323.15\n",
      "122.0\n"
     ]
    }
   ],
   "source": [
    "def convert_grados(valor,med_origen,med_destino):\n",
    "    if med_origen=='F':\n",
    "        if med_destino == 'C':\n",
    "            return ((valor-32)/(9/5))\n",
    "        if med_destino == 'K':\n",
    "            return ((valor-32)/(9/5)+273.15)\n",
    "        if med_destino == 'F':\n",
    "            return valor\n",
    "    \n",
    "    if med_origen=='C':\n",
    "        if med_destino == 'F':\n",
    "            return (valor*(9/5)+32)\n",
    "        if med_destino == 'K':\n",
    "            return (valor+273.15)\n",
    "        if med_destino == 'C':\n",
    "            return valor\n",
    "\n",
    "    if med_origen=='K':\n",
    "        if med_destino == 'C':\n",
    "            return (valor-273.15)\n",
    "        if med_destino == 'F':\n",
    "            return (((valor-273.15)*(9/5))+32)\n",
    "        if med_destino == 'K':\n",
    "            return valor\n",
    "        \n",
    "print(convert_grados(50,'C','K'))\n",
    "print(convert_grados(50,'C','F'))"
   ]
  },
  {
   "attachments": {},
   "cell_type": "markdown",
   "metadata": {},
   "source": [
    "6) Iterando una lista con los tres valores posibles de temperatura que recibe la función del punto 5, hacer un print para cada combinación de los mismos:"
   ]
  },
  {
   "cell_type": "code",
   "execution_count": 12,
   "metadata": {},
   "outputs": [
    {
     "name": "stdout",
     "output_type": "stream",
     "text": [
      "0\n",
      "32.0\n",
      "273.15\n",
      "-17.77777777777778\n",
      "0\n",
      "255.3722222222222\n",
      "-273.15\n",
      "-459.66999999999996\n",
      "0\n"
     ]
    }
   ],
   "source": [
    "lista=['C','F','K']\n",
    "\n",
    "for elemento in lista:\n",
    "    for item in lista:\n",
    "        print(convert_grados(0,elemento,item))\n"
   ]
  },
  {
   "attachments": {},
   "cell_type": "markdown",
   "metadata": {},
   "source": [
    "7) Armar una función que devuelva el factorial de un número. Tener en cuenta que el usuario puede equivocarse y enviar de parámetro un número no entero o negativo"
   ]
  },
  {
   "cell_type": "code",
   "execution_count": 16,
   "metadata": {},
   "outputs": [
    {
     "name": "stdout",
     "output_type": "stream",
     "text": [
      "El numero debe ser positivo\n",
      "None\n",
      "El numero debe ser entero\n",
      "None\n",
      "120\n"
     ]
    }
   ],
   "source": [
    "def factorial(numero):\n",
    "    \n",
    "    if type(numero)!=int:\n",
    "        print('El numero debe ser entero')\n",
    "        return\n",
    "    elif numero<0:\n",
    "        print('El numero debe ser positivo')\n",
    "        return\n",
    "    if  numero>1:\n",
    "        resultado=numero*factorial(numero-1)\n",
    "    else:\n",
    "        return numero\n",
    "    return resultado\n",
    "\n",
    "print(factorial(-10))\n",
    "print(factorial(5.78))\n",
    "print(factorial(5))"
   ]
  }
 ],
 "metadata": {
  "interpreter": {
   "hash": "c85384e4cb51c8b72350f3a8712cc8351fdc3955e32a27f9b60c6242ab125f01"
  },
  "kernelspec": {
   "display_name": "Python 3 (ipykernel)",
   "language": "python",
   "name": "python3"
  },
  "language_info": {
   "codemirror_mode": {
    "name": "ipython",
    "version": 3
   },
   "file_extension": ".py",
   "mimetype": "text/x-python",
   "name": "python",
   "nbconvert_exporter": "python",
   "pygments_lexer": "ipython3",
   "version": "3.11.4"
  }
 },
 "nbformat": 4,
 "nbformat_minor": 4
}
