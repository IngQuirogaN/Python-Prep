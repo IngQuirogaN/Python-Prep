{
 "cells": [
  {
   "attachments": {},
   "cell_type": "markdown",
   "metadata": {},
   "source": [
    "## Flujos de Control"
   ]
  },
  {
   "attachments": {},
   "cell_type": "markdown",
   "metadata": {},
   "source": [
    "1) Crear una variable que contenga un elemento del conjunto de números enteros y luego imprimir por pantalla si es mayor o menor a cero"
   ]
  },
  {
   "cell_type": "code",
   "execution_count": 3,
   "metadata": {},
   "outputs": [
    {
     "name": "stdout",
     "output_type": "stream",
     "text": [
      "Es 0\n"
     ]
    }
   ],
   "source": [
    "a = 0\n",
    "if a<0:\n",
    "    print(\"Menor a 0\")\n",
    "elif a>0:\n",
    "    print(\"Mayor a 0\")\n",
    "else:\n",
    "    print(\"Es 0\")"
   ]
  },
  {
   "attachments": {},
   "cell_type": "markdown",
   "metadata": {},
   "source": [
    "2) Crear dos variables y un condicional que informe si son del mismo tipo de dato"
   ]
  },
  {
   "cell_type": "code",
   "execution_count": 6,
   "metadata": {},
   "outputs": [
    {
     "name": "stdout",
     "output_type": "stream",
     "text": [
      "Son de diferente tipo\n"
     ]
    }
   ],
   "source": [
    "a = '5'\n",
    "b = 10\n",
    "if type(a)==type(b):\n",
    "    print(\"Son del mismo tipo\")\n",
    "else:\n",
    "    print(\"Son de diferente tipo\")"
   ]
  },
  {
   "attachments": {},
   "cell_type": "markdown",
   "metadata": {},
   "source": [
    "3) Para los valores enteros del 1 al 20, imprimir por pantalla si es par o impar"
   ]
  },
  {
   "cell_type": "code",
   "execution_count": 7,
   "metadata": {},
   "outputs": [
    {
     "name": "stdout",
     "output_type": "stream",
     "text": [
      "1  es: IMPAR\n",
      "2  es: PAR\n",
      "3  es: IMPAR\n",
      "4  es: PAR\n",
      "5  es: IMPAR\n",
      "6  es: PAR\n",
      "7  es: IMPAR\n",
      "8  es: PAR\n",
      "9  es: IMPAR\n",
      "10  es: PAR\n",
      "11  es: IMPAR\n",
      "12  es: PAR\n",
      "13  es: IMPAR\n",
      "14  es: PAR\n",
      "15  es: IMPAR\n",
      "16  es: PAR\n",
      "17  es: IMPAR\n",
      "18  es: PAR\n",
      "19  es: IMPAR\n",
      "20  es: PAR\n"
     ]
    }
   ],
   "source": [
    "for i in range(1,21):\n",
    "    if i%2 == 0:\n",
    "        print(i,\" es: PAR\")\n",
    "    else:\n",
    "        print(i,\" es: IMPAR\")"
   ]
  },
  {
   "attachments": {},
   "cell_type": "markdown",
   "metadata": {},
   "source": [
    "4) En un ciclo for mostrar para los valores entre 0 y 5 el resultado de elevarlo a la potencia igual a 3"
   ]
  },
  {
   "cell_type": "code",
   "execution_count": 9,
   "metadata": {},
   "outputs": [
    {
     "name": "stdout",
     "output_type": "stream",
     "text": [
      "0  elevado a 3 es:  0\n",
      "1  elevado a 3 es:  1\n",
      "2  elevado a 3 es:  8\n",
      "3  elevado a 3 es:  27\n",
      "4  elevado a 3 es:  64\n",
      "5  elevado a 3 es:  125\n"
     ]
    }
   ],
   "source": [
    "for i in range (6):\n",
    "    print(i,\" elevado a 3 es: \",i**3)"
   ]
  },
  {
   "attachments": {},
   "cell_type": "markdown",
   "metadata": {},
   "source": [
    "5) Crear una variable que contenga un número entero y realizar un ciclo for la misma cantidad de ciclos"
   ]
  },
  {
   "cell_type": "code",
   "execution_count": 10,
   "metadata": {},
   "outputs": [
    {
     "name": "stdout",
     "output_type": "stream",
     "text": [
      "0\n",
      "1\n",
      "2\n",
      "3\n",
      "4\n",
      "5\n",
      "6\n",
      "7\n",
      "8\n",
      "9\n",
      "10\n"
     ]
    }
   ],
   "source": [
    "a=10\n",
    "for i in range(a+1):\n",
    "    print (i)"
   ]
  },
  {
   "attachments": {},
   "cell_type": "markdown",
   "metadata": {},
   "source": [
    "6) Utilizar un ciclo while para realizar el factorial de un número guardado en una variable, sólo si la variable contiene un número entero mayor a 0"
   ]
  },
  {
   "cell_type": "code",
   "execution_count": 14,
   "metadata": {},
   "outputs": [
    {
     "name": "stdout",
     "output_type": "stream",
     "text": [
      "120\n"
     ]
    }
   ],
   "source": [
    "a=5\n",
    "suma=1\n",
    "if(a>0):\n",
    "    for i in range(1,a+1):\n",
    "        suma=suma*i\n",
    "\n",
    "print(suma)"
   ]
  },
  {
   "attachments": {},
   "cell_type": "markdown",
   "metadata": {},
   "source": [
    "7) Crear un ciclo for dentro de un ciclo while"
   ]
  },
  {
   "cell_type": "code",
   "execution_count": 15,
   "metadata": {},
   "outputs": [
    {
     "name": "stdout",
     "output_type": "stream",
     "text": [
      "0\n",
      "1\n",
      "0\n",
      "1\n",
      "0\n",
      "1\n"
     ]
    }
   ],
   "source": [
    "a = 3\n",
    "while a!=0:\n",
    "    for i in range (2):\n",
    "        print(i)\n",
    "    a-=1\n"
   ]
  },
  {
   "attachments": {},
   "cell_type": "markdown",
   "metadata": {},
   "source": [
    "8) Crear un ciclo while dentro de un ciclo for"
   ]
  },
  {
   "cell_type": "code",
   "execution_count": 17,
   "metadata": {},
   "outputs": [
    {
     "name": "stdout",
     "output_type": "stream",
     "text": [
      "0\n",
      "0\n",
      "0\n",
      "1\n",
      "1\n",
      "1\n"
     ]
    }
   ],
   "source": [
    "\n",
    "for i in range (2):\n",
    "    a = 3\n",
    "    while a!=0:\n",
    "        print(i)\n",
    "        a-=1\n",
    "    \n"
   ]
  },
  {
   "attachments": {},
   "cell_type": "markdown",
   "metadata": {},
   "source": [
    "9) Imprimir los números primos existentes entre 0 y 30"
   ]
  },
  {
   "cell_type": "code",
   "execution_count": 22,
   "metadata": {},
   "outputs": [
    {
     "name": "stdout",
     "output_type": "stream",
     "text": [
      "1\n",
      "2\n",
      "3\n",
      "5\n",
      "7\n",
      "11\n",
      "13\n",
      "17\n",
      "19\n",
      "23\n",
      "29\n"
     ]
    }
   ],
   "source": [
    "primo= 0\n",
    "for i in range (1,31):\n",
    "    for j in range (2,i):\n",
    "        if i%j==0:\n",
    "            primo=1\n",
    "    if primo==0:\n",
    "        print(i)\n",
    "    primo=0\n"
   ]
  },
  {
   "attachments": {},
   "cell_type": "markdown",
   "metadata": {},
   "source": [
    "10) ¿Se puede mejorar el proceso del punto 9? Utilizar las sentencias break y/ó continue para tal fin"
   ]
  },
  {
   "cell_type": "code",
   "execution_count": 24,
   "metadata": {},
   "outputs": [
    {
     "name": "stdout",
     "output_type": "stream",
     "text": [
      "1\n",
      "2\n",
      "3\n",
      "5\n",
      "7\n",
      "11\n",
      "13\n",
      "17\n",
      "19\n",
      "23\n",
      "29\n"
     ]
    }
   ],
   "source": [
    "primo= 0\n",
    "for i in range (1,31):\n",
    "    for j in range (2,i):\n",
    "        if i%j==0:\n",
    "            primo=1\n",
    "            break\n",
    "    if primo==0:\n",
    "        print(i)\n",
    "    primo=0\n"
   ]
  },
  {
   "attachments": {},
   "cell_type": "markdown",
   "metadata": {},
   "source": [
    "11) En los puntos 9 y 10, se diseño un código que encuentra números primos y además se lo optimizó. ¿Es posible saber en qué medida se optimizó?"
   ]
  },
  {
   "cell_type": "code",
   "execution_count": 26,
   "metadata": {},
   "outputs": [
    {
     "name": "stdout",
     "output_type": "stream",
     "text": [
      "1\n",
      "2\n",
      "3\n",
      "5\n",
      "7\n",
      "11\n",
      "13\n",
      "17\n",
      "19\n",
      "23\n",
      "29\n",
      "1\n",
      "2\n",
      "3\n",
      "5\n",
      "7\n",
      "11\n",
      "13\n",
      "17\n",
      "19\n",
      "23\n",
      "29\n",
      "406  numero de ciclos sin break\n",
      "135  numero de ciclos con break\n"
     ]
    }
   ],
   "source": [
    "contador1=0\n",
    "primo= 0\n",
    "for i in range (1,31):\n",
    "    for j in range (2,i):\n",
    "        contador1+=1\n",
    "        if i%j==0:\n",
    "            primo=1\n",
    "    if primo==0:\n",
    "        print(i)\n",
    "    primo=0\n",
    "\n",
    "contador2=0\n",
    "primo= 0\n",
    "for i in range (1,31):\n",
    "    for j in range (2,i):\n",
    "        contador2+=1\n",
    "        if i%j==0:\n",
    "            primo=1\n",
    "            break\n",
    "    if primo==0:\n",
    "        print(i)\n",
    "    primo=0\n",
    "\n",
    "print(contador1,\" numero de ciclos sin break\")\n",
    "print(contador2,\" numero de ciclos con break\")"
   ]
  },
  {
   "attachments": {},
   "cell_type": "markdown",
   "metadata": {},
   "source": [
    "12) Si la cantidad de números que se evalúa es mayor a treinta, esa optimización crece?"
   ]
  },
  {
   "cell_type": "code",
   "execution_count": 29,
   "metadata": {},
   "outputs": [
    {
     "name": "stdout",
     "output_type": "stream",
     "text": [
      "1\n",
      "2\n",
      "3\n",
      "5\n",
      "7\n",
      "11\n",
      "13\n",
      "17\n",
      "19\n",
      "23\n",
      "29\n",
      "31\n",
      "37\n",
      "41\n",
      "43\n",
      "47\n",
      "53\n",
      "59\n",
      "61\n",
      "67\n",
      "71\n",
      "73\n",
      "79\n",
      "83\n",
      "89\n",
      "97\n",
      "101\n",
      "103\n",
      "107\n",
      "109\n",
      "113\n",
      "127\n",
      "131\n",
      "137\n",
      "139\n",
      "149\n",
      "151\n",
      "157\n",
      "163\n",
      "167\n",
      "173\n",
      "179\n",
      "181\n",
      "191\n",
      "193\n",
      "197\n",
      "199\n",
      "211\n",
      "223\n",
      "227\n",
      "229\n",
      "233\n",
      "239\n",
      "241\n",
      "251\n",
      "257\n",
      "263\n",
      "269\n",
      "271\n",
      "277\n",
      "281\n",
      "283\n",
      "293\n",
      "307\n",
      "1\n",
      "2\n",
      "3\n",
      "5\n",
      "7\n",
      "11\n",
      "13\n",
      "17\n",
      "19\n",
      "23\n",
      "29\n",
      "31\n",
      "37\n",
      "41\n",
      "43\n",
      "47\n",
      "53\n",
      "59\n",
      "61\n",
      "67\n",
      "71\n",
      "73\n",
      "79\n",
      "83\n",
      "89\n",
      "97\n",
      "101\n",
      "103\n",
      "107\n",
      "109\n",
      "113\n",
      "127\n",
      "131\n",
      "137\n",
      "139\n",
      "149\n",
      "151\n",
      "157\n",
      "163\n",
      "167\n",
      "173\n",
      "179\n",
      "181\n",
      "191\n",
      "193\n",
      "197\n",
      "199\n",
      "211\n",
      "223\n",
      "227\n",
      "229\n",
      "233\n",
      "239\n",
      "241\n",
      "251\n",
      "257\n",
      "263\n",
      "269\n",
      "271\n",
      "277\n",
      "281\n",
      "283\n",
      "293\n",
      "307\n",
      "47278  numero de ciclos sin break\n",
      "8971  numero de ciclos con break\n"
     ]
    }
   ],
   "source": [
    "cantidad = 310\n",
    "contador1=0\n",
    "primo= 0\n",
    "for i in range (1,cantidad):\n",
    "    for j in range (2,i):\n",
    "        contador1+=1\n",
    "        if i%j==0:\n",
    "            primo=1\n",
    "    if primo==0:\n",
    "        print(i)\n",
    "    primo=0\n",
    "\n",
    "contador2=0\n",
    "primo= 0\n",
    "for i in range (1,cantidad):\n",
    "    for j in range (2,i):\n",
    "        contador2+=1\n",
    "        if i%j==0:\n",
    "            primo=1\n",
    "            break\n",
    "    if primo==0:\n",
    "        print(i)\n",
    "    primo=0\n",
    "\n",
    "print(contador1,\" numero de ciclos sin break\")\n",
    "print(contador2,\" numero de ciclos con break\")"
   ]
  },
  {
   "attachments": {},
   "cell_type": "markdown",
   "metadata": {},
   "source": [
    "13) Aplicando continue, armar un ciclo while que solo imprima los valores divisibles por 12, dentro del rango de números de 100 a 300"
   ]
  },
  {
   "cell_type": "code",
   "execution_count": 31,
   "metadata": {},
   "outputs": [
    {
     "name": "stdout",
     "output_type": "stream",
     "text": [
      "108\n",
      "120\n",
      "132\n",
      "144\n",
      "156\n",
      "168\n",
      "180\n",
      "192\n",
      "204\n",
      "216\n",
      "228\n",
      "240\n",
      "252\n",
      "264\n",
      "276\n",
      "288\n",
      "300\n"
     ]
    }
   ],
   "source": [
    "a=0\n",
    "while a<300:\n",
    "    a+=1\n",
    "    if a<100:\n",
    "        continue\n",
    "    if a%12==0:\n",
    "        print(a)\n",
    "    "
   ]
  },
  {
   "attachments": {},
   "cell_type": "markdown",
   "metadata": {},
   "source": [
    "14) Utilizar la función **input()** que permite hacer ingresos por teclado, para encontrar números primos y dar la opción al usario de buscar el siguiente"
   ]
  },
  {
   "cell_type": "code",
   "execution_count": 32,
   "metadata": {},
   "outputs": [
    {
     "name": "stdout",
     "output_type": "stream",
     "text": [
      "1\n",
      "desea buscar el siguiente?\n"
     ]
    }
   ],
   "source": [
    "cantidad=500\n",
    "primo= 0\n",
    "for i in range (1,cantidad):\n",
    "    for j in range (2,i):\n",
    "        contador2+=1\n",
    "        if i%j==0:\n",
    "            primo=1\n",
    "            break\n",
    "    if primo==0:\n",
    "        print(i)\n",
    "    print(\"desea buscar el siguiente?\")\n",
    "    if input()==\"N\":\n",
    "        break    \n",
    "    primo=0"
   ]
  },
  {
   "attachments": {},
   "cell_type": "markdown",
   "metadata": {},
   "source": [
    "15) Crear un ciclo while que encuentre dentro del rango de 100 a 300 el primer número divisible por 3 y además múltiplo de 6"
   ]
  },
  {
   "cell_type": "code",
   "execution_count": 1,
   "metadata": {},
   "outputs": [
    {
     "name": "stdout",
     "output_type": "stream",
     "text": [
      "El número es:  102\n"
     ]
    }
   ],
   "source": [
    "numero = 100\n",
    "while(numero<=300):\n",
    "    if (numero % 6 == 0):\n",
    "        print('El número es: ',numero)\n",
    "        break\n",
    "    numero += 1"
   ]
  }
 ],
 "metadata": {
  "interpreter": {
   "hash": "c85384e4cb51c8b72350f3a8712cc8351fdc3955e32a27f9b60c6242ab125f01"
  },
  "kernelspec": {
   "display_name": "Python 3 (ipykernel)",
   "language": "python",
   "name": "python3"
  },
  "language_info": {
   "codemirror_mode": {
    "name": "ipython",
    "version": 3
   },
   "file_extension": ".py",
   "mimetype": "text/x-python",
   "name": "python",
   "nbconvert_exporter": "python",
   "pygments_lexer": "ipython3",
   "version": "3.11.4"
  }
 },
 "nbformat": 4,
 "nbformat_minor": 4
}
