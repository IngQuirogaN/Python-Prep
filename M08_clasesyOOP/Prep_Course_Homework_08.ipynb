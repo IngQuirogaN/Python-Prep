{
 "cells": [
  {
   "attachments": {},
   "cell_type": "markdown",
   "metadata": {},
   "source": [
    "## Clases y Programación Orientada a Objetos"
   ]
  },
  {
   "attachments": {},
   "cell_type": "markdown",
   "metadata": {},
   "source": [
    "1) Crear la clase vehículo que contenga los atributos:<br>\n",
    "Color<br>\n",
    "Si es moto, auto, camioneta ó camión<br>\n",
    "Cilindrada del motor"
   ]
  },
  {
   "cell_type": "code",
   "execution_count": 1,
   "metadata": {},
   "outputs": [],
   "source": [
    "class vehiculo:\n",
    "    def __init__(self,color,tipo,cilindrada):\n",
    "        self.color = color\n",
    "        self.tipo = tipo\n",
    "        self.cilindrada = cilindrada\n",
    "        pass"
   ]
  },
  {
   "attachments": {},
   "cell_type": "markdown",
   "metadata": {},
   "source": [
    "2) A la clase Vehiculo creada en el punto 1, agregar los siguientes métodos:<br>\n",
    "Acelerar<br>\n",
    "Frenar<br>\n",
    "Doblar<br>"
   ]
  },
  {
   "cell_type": "code",
   "execution_count": 4,
   "metadata": {},
   "outputs": [],
   "source": [
    "class vehiculo:\n",
    "    def __init__(self,color,tipo,cilindrada):\n",
    "        self.color = color\n",
    "        self.tipo = tipo\n",
    "        self.cilindrada = cilindrada\n",
    "        self.velocidad = 0        \n",
    "    \n",
    "    def acelerar (self):\n",
    "        self.velocidad +=1\n",
    "    \n",
    "    def frenar (self):\n",
    "        if self.velocidad == 0:\n",
    "            self.velocidad = 0\n",
    "        else:\n",
    "            self.velocidad -=1\n",
    "    \n",
    "    def doblar(self,direccion):\n",
    "        self.direccion = direccion\n",
    "    "
   ]
  },
  {
   "attachments": {},
   "cell_type": "markdown",
   "metadata": {},
   "source": [
    "3) Instanciar 3 objetos de la clase vehículo y ejecutar sus métodos, probar luego el resultado"
   ]
  },
  {
   "cell_type": "code",
   "execution_count": 7,
   "metadata": {},
   "outputs": [
    {
     "name": "stdout",
     "output_type": "stream",
     "text": [
      "Verde Auto 2000 1\n",
      "Rojo Motocicleta 110 1\n",
      "Azul Camion 4000 izquierda\n"
     ]
    }
   ],
   "source": [
    "auto = vehiculo('Verde','Auto',2000)\n",
    "moto = vehiculo('Rojo','Motocicleta',110)\n",
    "camion=vehiculo('Azul','Camion',4000)\n",
    "\n",
    "auto.acelerar()\n",
    "auto.acelerar()\n",
    "auto.frenar()\n",
    "moto.acelerar()\n",
    "camion.doblar('izquierda')\n",
    "\n",
    "print(auto.color,auto.tipo,auto.cilindrada,auto.velocidad)\n",
    "print(moto.color,moto.tipo,moto.cilindrada,moto.velocidad)\n",
    "print(camion.color,camion.tipo,camion.cilindrada,camion.direccion)"
   ]
  },
  {
   "attachments": {},
   "cell_type": "markdown",
   "metadata": {},
   "source": [
    "4) Agregar a la clase Vehiculo, un método que muestre su estado, es decir, a que velocidad se encuentra y su dirección. Y otro método que muestre color, tipo y cilindrada"
   ]
  },
  {
   "cell_type": "code",
   "execution_count": 9,
   "metadata": {},
   "outputs": [
    {
     "name": "stdout",
     "output_type": "stream",
     "text": [
      "Es un  Auto  de  2000  cm3 y de color  Verde\n",
      "La direccion es  izquierda  y su velocidad es  1\n",
      "Es un  Motocicleta  de  110  cm3 y de color  Rojo\n",
      "La direccion es  derecha  y su velocidad es  1\n",
      "Es un  Camion  de  4000  cm3 y de color  Azul\n",
      "La direccion es  izquierda  y su velocidad es  3\n"
     ]
    }
   ],
   "source": [
    "class vehiculo:\n",
    "    def __init__(self,color,tipo,cilindrada):\n",
    "        self.color = color\n",
    "        self.tipo = tipo\n",
    "        self.cilindrada = cilindrada\n",
    "        self.velocidad = 0        \n",
    "    \n",
    "    def acelerar (self):\n",
    "        self.velocidad +=1\n",
    "    \n",
    "    def frenar (self):\n",
    "        if self.velocidad == 0:\n",
    "            self.velocidad = 0\n",
    "        else:\n",
    "            self.velocidad -=1\n",
    "    \n",
    "    def doblar(self,direccion):\n",
    "        self.direccion = direccion\n",
    "    \n",
    "    def mostrar_mov(self):\n",
    "        print('La direccion es ',self.direccion,' y su velocidad es ',self.velocidad)\n",
    "    \n",
    "    def mostrar_caract(self):\n",
    "        print('Es un ',self.tipo,' de ',self.cilindrada,' cm3 y de color ',self.color)\n",
    "\n",
    "\n",
    "auto = vehiculo('Verde','Auto',2000)\n",
    "moto = vehiculo('Rojo','Motocicleta',110)\n",
    "camion=vehiculo('Azul','Camion',4000)\n",
    "\n",
    "auto.acelerar()\n",
    "auto.acelerar()\n",
    "auto.frenar()\n",
    "moto.acelerar()\n",
    "camion.acelerar()\n",
    "camion.acelerar()\n",
    "camion.acelerar()\n",
    "camion.doblar('izquierda')\n",
    "auto.doblar('izquierda')\n",
    "moto.doblar('derecha')\n",
    "\n",
    "auto.mostrar_caract()\n",
    "auto.mostrar_mov()\n",
    "\n",
    "moto.mostrar_caract()\n",
    "moto.mostrar_mov()\n",
    "\n",
    "camion.mostrar_caract()\n",
    "camion.mostrar_mov()"
   ]
  },
  {
   "attachments": {},
   "cell_type": "markdown",
   "metadata": {},
   "source": [
    "5) Crear una clase que permita utilizar las funciones creadas en la práctica del módulo 7<br>\n",
    "Verificar Primo<br>\n",
    "Valor modal<br>\n",
    "Conversión grados<br>\n",
    "Factorial<br>"
   ]
  },
  {
   "cell_type": "code",
   "execution_count": 11,
   "metadata": {},
   "outputs": [],
   "source": [
    "class funciones:\n",
    "    def __init__(self) -> None:\n",
    "        pass\n",
    "    \n",
    "    def primo(self,numero):\n",
    "        self.numero=numero\n",
    "        self.primoflag=0\n",
    "        for i in range(2,self.numero):\n",
    "            if numero%i==0:\n",
    "                self.primoflag =1\n",
    "        if self.primoflag==0:\n",
    "            return True\n",
    "        else:\n",
    "            return False\n",
    "        \n",
    "    def contar_repetido(self,lista):\n",
    "        self.lista=lista\n",
    "        self.contador_max=0\n",
    "        self.contador=0\n",
    "        self.valor=0\n",
    "        for elemento in self.lista:\n",
    "            self.contador=self.lista.count(elemento)\n",
    "            if self.contador>self.contador_max:\n",
    "                self.contador_max=self.contador\n",
    "                self.valor=elemento\n",
    "        return self.valor,self.contador_max\n",
    "    \n",
    "    def convert_grados(self,valor,med_origen,med_destino):\n",
    "        self.valor = valor\n",
    "        self.med_origen = med_origen\n",
    "        self.med_destino = med_destino\n",
    "        if self.med_origen=='F':\n",
    "            if self.med_destino == 'C':\n",
    "                return ((self.valor-32)/(9/5))\n",
    "            if self.med_destino == 'K':\n",
    "                return ((self.valor-32)/(9/5)+273.15)\n",
    "            if self.med_destino == 'F':\n",
    "                return self.valor\n",
    "    \n",
    "        if self.med_origen=='C':\n",
    "            if self.med_destino == 'F':\n",
    "                return (self.valor*(9/5)+32)\n",
    "            if self.med_destino == 'K':\n",
    "                return (self.valor+273.15)\n",
    "            if self.med_destino == 'C':\n",
    "                return self.valor\n",
    "\n",
    "        if self.med_origen=='K':\n",
    "            if self.med_destino == 'C':\n",
    "                return (self.valor-273.15)\n",
    "            if self.med_destino == 'F':\n",
    "                return (((self.valor-273.15)*(9/5))+32)\n",
    "            if self.med_destino == 'K':\n",
    "                return valself.valoror\n",
    "            \n",
    "    def factorial(self,numero):\n",
    "        self.numero=numero\n",
    "        self.resultado=1\n",
    "        if type(self.numero)!=int:\n",
    "            print('El numero debe ser entero')\n",
    "            return\n",
    "        elif self.numero<0:\n",
    "            print('El numero debe ser positivo')\n",
    "            return\n",
    "        if  self.numero>1:\n",
    "            self.resultado=self.numero*self.factorial(self.numero-1)\n",
    "        else:\n",
    "            return self.numero\n",
    "        return self.resultado\n",
    "    \n",
    "\n",
    "    \n"
   ]
  },
  {
   "attachments": {},
   "cell_type": "markdown",
   "metadata": {},
   "source": [
    "6) Probar las funciones incorporadas en la clase del punto 5"
   ]
  },
  {
   "cell_type": "code",
   "execution_count": 12,
   "metadata": {},
   "outputs": [
    {
     "name": "stdout",
     "output_type": "stream",
     "text": [
      "False\n",
      "120\n"
     ]
    }
   ],
   "source": [
    "prueba = funciones()\n",
    "\n",
    "print(prueba.primo(4))\n",
    "print(prueba.factorial(5))"
   ]
  },
  {
   "attachments": {},
   "cell_type": "markdown",
   "metadata": {},
   "source": [
    "7) Es necesario que la clase creada en el punto 5 contenga una lista, sobre la cual se apliquen las funciones incorporadas"
   ]
  },
  {
   "cell_type": "code",
   "execution_count": 24,
   "metadata": {},
   "outputs": [
    {
     "name": "stdout",
     "output_type": "stream",
     "text": [
      "El elemento 1 SI es un numero primo\n",
      "El elemento 2 SI es un numero primo\n",
      "El elemento 3 SI es un numero primo\n",
      "El elemento 4 NO es un numero primo\n",
      "El elemento 5 SI es un numero primo\n",
      "None\n",
      "El factorial de  1 es 1\n",
      "El factorial de  2 es 2\n",
      "El factorial de  3 es 6\n",
      "El factorial de  4 es 24\n",
      "El factorial de  5 es 120\n",
      "None\n",
      "(1, 1)\n",
      "274.15\n",
      "275.15\n",
      "276.15\n",
      "277.15\n",
      "278.15\n",
      "None\n"
     ]
    }
   ],
   "source": [
    "class funciones_lista:\n",
    "    def __init__(self,lista):\n",
    "        self.lista=lista\n",
    "\n",
    "    def lista_primo(self):\n",
    "        for i in self.lista:\n",
    "            if (self.primo(i)):\n",
    "                print('El elemento', i, 'SI es un numero primo')\n",
    "            else:\n",
    "                print('El elemento', i, 'NO es un numero primo')\n",
    "\n",
    "    def lista_grados(self, origen, destino):\n",
    "        for i in self.lista:\n",
    "            print(self.convert_grados(i,origen,destino))\n",
    "    \n",
    "    def lista_factorial(self):\n",
    "        for i in self.lista:\n",
    "            print('El factorial de ', i, 'es', self.factorial(i))\n",
    "\n",
    "    def primo(self,numero):\n",
    "        self.numero=numero\n",
    "        self.primoflag=0\n",
    "        for i in range(2,self.numero):\n",
    "            if numero%i==0:\n",
    "                self.primoflag =1\n",
    "        if self.primoflag==0:\n",
    "            return True\n",
    "        else:\n",
    "            return False\n",
    "        \n",
    "    def contar_repetido(self):\n",
    "        self.contador_max=0\n",
    "        self.contador=0\n",
    "        self.valor=0\n",
    "        for elemento in self.lista:\n",
    "            self.contador=self.lista.count(elemento)\n",
    "            if self.contador>self.contador_max:\n",
    "                self.contador_max=self.contador\n",
    "                self.valor=elemento\n",
    "        return self.valor,self.contador_max\n",
    "    \n",
    "    def convert_grados(self,valor,med_origen,med_destino):\n",
    "        self.valor = valor\n",
    "        self.med_origen = med_origen\n",
    "        self.med_destino = med_destino\n",
    "        if self.med_origen=='F':\n",
    "            if self.med_destino == 'C':\n",
    "                return ((self.valor-32)/(9/5))\n",
    "            if self.med_destino == 'K':\n",
    "                return ((self.valor-32)/(9/5)+273.15)\n",
    "            if self.med_destino == 'F':\n",
    "                return self.valor\n",
    "    \n",
    "        if self.med_origen=='C':\n",
    "            if self.med_destino == 'F':\n",
    "                return (self.valor*(9/5)+32)\n",
    "            if self.med_destino == 'K':\n",
    "                return (self.valor+273.15)\n",
    "            if self.med_destino == 'C':\n",
    "                return self.valor\n",
    "\n",
    "        if self.med_origen=='K':\n",
    "            if self.med_destino == 'C':\n",
    "                return (self.valor-273.15)\n",
    "            if self.med_destino == 'F':\n",
    "                return (((self.valor-273.15)*(9/5))+32)\n",
    "            if self.med_destino == 'K':\n",
    "                return valself.valoror\n",
    "            \n",
    "    def factorial(self,numero):\n",
    "        self.numero=numero\n",
    "        self.resultado=1\n",
    "        if type(self.numero)!=int:\n",
    "            print('El numero debe ser entero')\n",
    "            return\n",
    "        elif self.numero<0:\n",
    "            print('El numero debe ser positivo')\n",
    "            return\n",
    "        if  self.numero>1:\n",
    "            self.resultado=self.numero*self.factorial(self.numero-1)\n",
    "        else:\n",
    "            return self.numero\n",
    "        return self.resultado\n",
    "    \n",
    "prueba2 = funciones_lista([1,2,3,4,5])\n",
    "print(prueba2.lista_primo())\n",
    "print(prueba2.lista_factorial())\n",
    "print(prueba2.contar_repetido())\n",
    "print(prueba2.lista_grados('C','K'))\n",
    "    "
   ]
  },
  {
   "attachments": {},
   "cell_type": "markdown",
   "metadata": {},
   "source": [
    "8) Crear un archivo .py aparte y ubicar allí la clase generada en el punto anterior. Luego realizar la importación del módulo y probar alguna de sus funciones"
   ]
  },
  {
   "cell_type": "code",
   "execution_count": 25,
   "metadata": {},
   "outputs": [
    {
     "name": "stdout",
     "output_type": "stream",
     "text": [
      "El elemento 2 SI es un numero primo\n",
      "El elemento 5 SI es un numero primo\n",
      "El elemento 4 NO es un numero primo\n",
      "El elemento 8 NO es un numero primo\n",
      "El elemento 6 NO es un numero primo\n",
      "El elemento 5 SI es un numero primo\n",
      "El elemento 4 NO es un numero primo\n",
      "El elemento 8 NO es un numero primo\n",
      "El elemento 2 SI es un numero primo\n",
      "El elemento 4 NO es un numero primo\n",
      "El elemento 8 NO es un numero primo\n",
      "El elemento 5 SI es un numero primo\n",
      "El elemento 3 SI es un numero primo\n",
      "El elemento 4 NO es un numero primo\n",
      "El elemento 5 SI es un numero primo\n",
      "El elemento 2 SI es un numero primo\n",
      "El elemento 4 NO es un numero primo\n",
      "None\n",
      "El factorial de  2 es 2\n",
      "El factorial de  5 es 120\n",
      "El factorial de  4 es 24\n",
      "El factorial de  8 es 40320\n",
      "El factorial de  6 es 720\n",
      "El factorial de  5 es 120\n",
      "El factorial de  4 es 24\n",
      "El factorial de  8 es 40320\n",
      "El factorial de  2 es 2\n",
      "El factorial de  4 es 24\n",
      "El factorial de  8 es 40320\n",
      "El factorial de  5 es 120\n",
      "El factorial de  3 es 6\n",
      "El factorial de  4 es 24\n",
      "El factorial de  5 es 120\n",
      "El factorial de  2 es 2\n",
      "El factorial de  4 es 24\n",
      "None\n",
      "(4, 5)\n",
      "275.15\n",
      "278.15\n",
      "277.15\n",
      "281.15\n",
      "279.15\n",
      "278.15\n",
      "277.15\n",
      "281.15\n",
      "275.15\n",
      "277.15\n",
      "281.15\n",
      "278.15\n",
      "276.15\n",
      "277.15\n",
      "278.15\n",
      "275.15\n",
      "277.15\n",
      "None\n"
     ]
    }
   ],
   "source": [
    "from archivo import *\n",
    "\n",
    "prueba3 = funciones_lista([2,5,4,8,6,5,4,8,2,4,8,5,3,4,5,2,4])\n",
    "print(prueba3.lista_primo())\n",
    "print(prueba3.lista_factorial())\n",
    "print(prueba3.contar_repetido())\n",
    "print(prueba3.lista_grados('C','K'))"
   ]
  }
 ],
 "metadata": {
  "interpreter": {
   "hash": "c85384e4cb51c8b72350f3a8712cc8351fdc3955e32a27f9b60c6242ab125f01"
  },
  "kernelspec": {
   "display_name": "Python 3 (ipykernel)",
   "language": "python",
   "name": "python3"
  },
  "language_info": {
   "codemirror_mode": {
    "name": "ipython",
    "version": 3
   },
   "file_extension": ".py",
   "mimetype": "text/x-python",
   "name": "python",
   "nbconvert_exporter": "python",
   "pygments_lexer": "ipython3",
   "version": "3.9.7"
  }
 },
 "nbformat": 4,
 "nbformat_minor": 4
}
